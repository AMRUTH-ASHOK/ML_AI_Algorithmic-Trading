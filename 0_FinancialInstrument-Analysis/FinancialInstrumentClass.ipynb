{
 "cells": [
  {
   "cell_type": "markdown",
   "metadata": {},
   "source": [
    "# Financial Instrument Class\n",
    "### A class to easily analyse financial instruments\n",
    "\n",
    "Financial Instrument is a base class, Risk Return is a super class"
   ]
  },
  {
   "cell_type": "code",
   "execution_count": 1,
   "metadata": {},
   "outputs": [
    {
     "name": "stderr",
     "output_type": "stream",
     "text": [
      "/var/folders/vt/l70v337s047_p4k5c0kp45200000gn/T/ipykernel_32881/72465036.py:5: MatplotlibDeprecationWarning: The seaborn styles shipped by Matplotlib are deprecated since 3.6, as they no longer correspond to the styles shipped by seaborn. However, they will remain available as 'seaborn-v0_8-<style>'. Alternatively, directly use the seaborn API instead.\n",
      "  plt.style.use('seaborn')\n"
     ]
    }
   ],
   "source": [
    "import numpy as np\n",
    "import pandas as pd\n",
    "import matplotlib.pyplot as plt\n",
    "import yfinance as yf\n",
    "plt.style.use('seaborn')\n",
    "import fxcmpy\n"
   ]
  },
  {
   "cell_type": "code",
   "execution_count": 2,
   "metadata": {},
   "outputs": [],
   "source": [
    "class FinancialInstrumentBase():\n",
    "    def __init__(self,ticker,start,end,api,frequency = 'D1'):\n",
    "        self._ticker = ticker\n",
    "        self.start = start\n",
    "        self.end = end\n",
    "        self.frequency = frequency\n",
    "        self.api = api\n",
    "        self.get_data_fxcm()\n",
    "        # self.get_data_Yfinance()\n",
    "        self.log_returns()\n",
    "\n",
    "    def __repr__(self):\n",
    "        return f'FinancialInstrument({self._ticker},{self.start},{self.end})'\n",
    "\n",
    "    # def get_data_Yfinance(self):\n",
    "    #     raw = yf.download(self._ticker,self.start,self.end).Close.to_frame()\n",
    "    #     raw = raw.rename(columns={'Close':'Price'})\n",
    "    #     self.data = raw\n",
    "\n",
    "    def get_data_fxcm(self):\n",
    "        raw = self.api.get_candles(self._ticker, start = self.start, end = self.end, period = self.frequency)\n",
    "        raw = raw['askclose'].to_frame()\n",
    "        raw = raw.rename(columns={'askclose':'Price'})\n",
    "        self.data = raw\n",
    "\n",
    "    def log_returns(self):\n",
    "        self.data['LogReturns'] = np.log(self.data.Price/self.data.Price.shift(1))\n",
    "        # self.data.dropna(inplace=True)\n",
    "    \n",
    "    def plot_prices(self):\n",
    "        '''Plot the prices of the financial instrument\n",
    "        '''\n",
    "        self.data.Price.plot(figsize=(12,8),title=self._ticker)\n",
    "        plt.show()\n",
    "\n",
    "    def plot_log_returns(self,kind='ts'):\n",
    "        if kind=='ts':\n",
    "            self.data.LogReturns.plot(figsize=(12,8),title=self._ticker)\n",
    "            plt.show()\n",
    "        if kind=='hist':\n",
    "            # self.data.LogReturns.hist(bins=int(np.sqrt(len(self.data))),figsize=(12,8))\n",
    "            self.data.LogReturns.hist(bins=100,figsize=(12,8))\n",
    "            plt.show()\n",
    "    \n",
    "    def plot_log_returns_density(self):\n",
    "        self.data.LogReturns.plot(kind='kde',figsize=(12,8))\n",
    "        plt.show()\n",
    "\n",
    "    def set_ticker(self,ticker):\n",
    "        self._ticker = ticker\n",
    "        self.get_data_Yfinance()\n",
    "        self.log_returns()\n",
    "    "
   ]
  },
  {
   "cell_type": "code",
   "execution_count": 3,
   "metadata": {},
   "outputs": [],
   "source": [
    "class RiskReturn(FinancialInstrumentBase):\n",
    "    def __init__(self,ticker,start,end,freq=None):\n",
    "        super().__init__(ticker,start,end)\n",
    "        self.freq = freq\n",
    "        \n",
    "\n",
    "    def __repr__(self):\n",
    "        return f'RiskReturn({self._ticker},{self.start},{self.end})'\n",
    "\n",
    "    def mean_return(self, freq=None):\n",
    "        if freq is None:\n",
    "            return self.data.LogReturns.mean()\n",
    "        else:\n",
    "            resampled_price = self.data.Price.resample(freq).last()\n",
    "            resampled_log_returns = np.log(resampled_price/resampled_price.shift(1))\n",
    "            return resampled_log_returns.mean()\n",
    "\n",
    "    def std_return(self, freq=None):\n",
    "        if freq is None:\n",
    "            return self.data.LogReturns.std()\n",
    "        else:\n",
    "            resampled_price = self.data.Price.resample(freq).last()\n",
    "            resampled_log_returns = np.log(resampled_price/resampled_price.shift(1))\n",
    "            return resampled_log_returns.std()\n",
    "\n",
    "    def annualized_performance(self):\n",
    "        mean_return = round(self.data.LogReturns.mean()*252,4)\n",
    "        std_return = round(self.data.LogReturns.std()*np.sqrt(252),4)\n",
    "        print(f\"Return: {mean_return} ||  Risk: {std_return}\")"
   ]
  },
  {
   "cell_type": "code",
   "execution_count": 4,
   "metadata": {},
   "outputs": [],
   "source": [
    "api = fxcmpy.fxcmpy(config_file= \"FXCM.cfg\")"
   ]
  },
  {
   "cell_type": "code",
   "execution_count": 60,
   "metadata": {},
   "outputs": [],
   "source": [
    "stocks = FinancialInstrumentBase('AUD/CAD','2010-01-01','2011-01-02',api,'D1')"
   ]
  },
  {
   "cell_type": "code",
   "execution_count": 61,
   "metadata": {},
   "outputs": [
    {
     "data": {
      "text/html": [
       "<div>\n",
       "<style scoped>\n",
       "    .dataframe tbody tr th:only-of-type {\n",
       "        vertical-align: middle;\n",
       "    }\n",
       "\n",
       "    .dataframe tbody tr th {\n",
       "        vertical-align: top;\n",
       "    }\n",
       "\n",
       "    .dataframe thead th {\n",
       "        text-align: right;\n",
       "    }\n",
       "</style>\n",
       "<table border=\"1\" class=\"dataframe\">\n",
       "  <thead>\n",
       "    <tr style=\"text-align: right;\">\n",
       "      <th></th>\n",
       "      <th>Price</th>\n",
       "      <th>LogReturns</th>\n",
       "    </tr>\n",
       "    <tr>\n",
       "      <th>date</th>\n",
       "      <th></th>\n",
       "      <th></th>\n",
       "    </tr>\n",
       "  </thead>\n",
       "  <tbody>\n",
       "    <tr>\n",
       "      <th>2010-01-04 22:00:00</th>\n",
       "      <td>0.95143</td>\n",
       "      <td>NaN</td>\n",
       "    </tr>\n",
       "    <tr>\n",
       "      <th>2010-01-05 22:00:00</th>\n",
       "      <td>0.94822</td>\n",
       "      <td>-0.003380</td>\n",
       "    </tr>\n",
       "    <tr>\n",
       "      <th>2010-01-06 22:00:00</th>\n",
       "      <td>0.95025</td>\n",
       "      <td>0.002139</td>\n",
       "    </tr>\n",
       "    <tr>\n",
       "      <th>2010-01-07 22:00:00</th>\n",
       "      <td>0.94958</td>\n",
       "      <td>-0.000705</td>\n",
       "    </tr>\n",
       "    <tr>\n",
       "      <th>2010-01-08 22:00:00</th>\n",
       "      <td>0.95268</td>\n",
       "      <td>0.003259</td>\n",
       "    </tr>\n",
       "    <tr>\n",
       "      <th>...</th>\n",
       "      <td>...</td>\n",
       "      <td>...</td>\n",
       "    </tr>\n",
       "    <tr>\n",
       "      <th>2010-12-27 22:00:00</th>\n",
       "      <td>1.01200</td>\n",
       "      <td>0.000573</td>\n",
       "    </tr>\n",
       "    <tr>\n",
       "      <th>2010-12-28 22:00:00</th>\n",
       "      <td>1.01171</td>\n",
       "      <td>-0.000287</td>\n",
       "    </tr>\n",
       "    <tr>\n",
       "      <th>2010-12-29 22:00:00</th>\n",
       "      <td>1.01894</td>\n",
       "      <td>0.007121</td>\n",
       "    </tr>\n",
       "    <tr>\n",
       "      <th>2010-12-30 22:00:00</th>\n",
       "      <td>1.01734</td>\n",
       "      <td>-0.001571</td>\n",
       "    </tr>\n",
       "    <tr>\n",
       "      <th>2010-12-31 22:00:00</th>\n",
       "      <td>1.01816</td>\n",
       "      <td>0.000806</td>\n",
       "    </tr>\n",
       "  </tbody>\n",
       "</table>\n",
       "<p>260 rows × 2 columns</p>\n",
       "</div>"
      ],
      "text/plain": [
       "                       Price  LogReturns\n",
       "date                                    \n",
       "2010-01-04 22:00:00  0.95143         NaN\n",
       "2010-01-05 22:00:00  0.94822   -0.003380\n",
       "2010-01-06 22:00:00  0.95025    0.002139\n",
       "2010-01-07 22:00:00  0.94958   -0.000705\n",
       "2010-01-08 22:00:00  0.95268    0.003259\n",
       "...                      ...         ...\n",
       "2010-12-27 22:00:00  1.01200    0.000573\n",
       "2010-12-28 22:00:00  1.01171   -0.000287\n",
       "2010-12-29 22:00:00  1.01894    0.007121\n",
       "2010-12-30 22:00:00  1.01734   -0.001571\n",
       "2010-12-31 22:00:00  1.01816    0.000806\n",
       "\n",
       "[260 rows x 2 columns]"
      ]
     },
     "execution_count": 61,
     "metadata": {},
     "output_type": "execute_result"
    }
   ],
   "source": [
    "stocks.data"
   ]
  }
 ],
 "metadata": {
  "kernelspec": {
   "display_name": "Python 3.8.13 ('mlp1')",
   "language": "python",
   "name": "python3"
  },
  "language_info": {
   "codemirror_mode": {
    "name": "ipython",
    "version": 3
   },
   "file_extension": ".py",
   "mimetype": "text/x-python",
   "name": "python",
   "nbconvert_exporter": "python",
   "pygments_lexer": "ipython3",
   "version": "3.8.13"
  },
  "orig_nbformat": 4,
  "vscode": {
   "interpreter": {
    "hash": "9c9483491e338353b4b613e02627ff3c0f9d5b9680dcdb3d9d18f221841f6e6e"
   }
  }
 },
 "nbformat": 4,
 "nbformat_minor": 2
}
